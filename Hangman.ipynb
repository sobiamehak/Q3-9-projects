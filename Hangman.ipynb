{
  "nbformat": 4,
  "nbformat_minor": 0,
  "metadata": {
    "colab": {
      "provenance": [],
      "authorship_tag": "ABX9TyOmiMUyJJJx39XMlnsyB1p1",
      "include_colab_link": true
    },
    "kernelspec": {
      "name": "python3",
      "display_name": "Python 3"
    },
    "language_info": {
      "name": "python"
    }
  },
  "cells": [
    {
      "cell_type": "markdown",
      "metadata": {
        "id": "view-in-github",
        "colab_type": "text"
      },
      "source": [
        "<a href=\"https://colab.research.google.com/github/sobiamehak/Q3-9-projects/blob/main/Hangman.ipynb\" target=\"_parent\"><img src=\"https://colab.research.google.com/assets/colab-badge.svg\" alt=\"Open In Colab\"/></a>"
      ]
    },
    {
      "cell_type": "code",
      "execution_count": null,
      "metadata": {
        "colab": {
          "base_uri": "https://localhost:8080/"
        },
        "id": "h4j1WoC8uqSe",
        "outputId": "f2034862-c9d2-4526-97c6-6d9897dba6ee"
      },
      "outputs": [
        {
          "output_type": "stream",
          "name": "stdout",
          "text": [
            "Welcome to Hangman!\n",
            "\n",
            "Current word: _ _ _ _\n",
            "Attempts left: 6\n",
            "Guessed letters: \n",
            "Guess a letter: p\n",
            "Wrong guess! You lost an attempt.\n",
            "\n",
            "Current word: _ _ _ _\n",
            "Attempts left: 5\n",
            "Guessed letters: p\n",
            "Guess a letter: e\n",
            "Wrong guess! You lost an attempt.\n",
            "\n",
            "Current word: _ _ _ _\n",
            "Attempts left: 4\n",
            "Guessed letters: e, p\n",
            "Guess a letter: a\n",
            "Good guess!\n",
            "\n",
            "Current word: _ a _ a\n",
            "Attempts left: 4\n",
            "Guessed letters: a, e, p\n",
            "Guess a letter: j\n",
            "Good guess!\n",
            "\n",
            "Current word: j a _ a\n",
            "Attempts left: 4\n",
            "Guessed letters: a, e, j, p\n",
            "Guess a letter: v\n",
            "Good guess!\n",
            "\n",
            "Congratulations! You guessed the word: java\n"
          ]
        }
      ],
      "source": [
        "import random\n",
        "\n",
        "def choose_word():\n",
        "    words = ['python', 'java', 'javascript', 'hangman', 'developer', 'computer']\n",
        "    return random.choice(words)\n",
        "\n",
        "def display_word(word, guessed_letters):\n",
        "    display = ' '.join([letter if letter in guessed_letters else '_' for letter in word])\n",
        "    return display\n",
        "\n",
        "def hangman():\n",
        "    word = choose_word()\n",
        "    guessed_letters = []  # Use list to store guessed letters\n",
        "    attempts = 6\n",
        "    print(\"Welcome to Hangman!\")\n",
        "\n",
        "    while attempts > 0:\n",
        "        print(f\"\\nCurrent word: {display_word(word, guessed_letters)}\")\n",
        "        print(f\"Attempts left: {attempts}\")\n",
        "        print(f\"Guessed letters: {', '.join(sorted(guessed_letters))}\")\n",
        "\n",
        "        guess = input(\"Guess a letter: \").lower()\n",
        "\n",
        "        if guess in guessed_letters:\n",
        "            print(\"You already guessed that letter.\")\n",
        "        elif guess in word:\n",
        "            guessed_letters.append(guess)  # Add to list to avoid duplicates\n",
        "            print(\"Good guess!\")\n",
        "        else:\n",
        "            guessed_letters.append(guess)  # Add to list even for wrong guesses\n",
        "            attempts -= 1\n",
        "            print(f\"Wrong guess! You lost an attempt.\")\n",
        "\n",
        "        # Check if all letters in the word have been guessed correctly\n",
        "        if all(letter in guessed_letters for letter in word):  # Check for all letters\n",
        "            print(f\"\\nCongratulations! You guessed the word: {word}\")\n",
        "            break\n",
        "    else:\n",
        "        print(f\"\\nYou lost! The word was: {word}\")\n",
        "\n",
        "    # Asking the user if they want to play again\n",
        "    play_again = input(\"Do you want to play again? (y/n): \").lower()\n",
        "    if play_again == 'y':\n",
        "        hangman()  # Restart the game\n",
        "    else:\n",
        "        print(\"Thanks for playing! Goodbye!\")\n",
        "\n",
        "# Run the game\n",
        "hangman()\n"
      ]
    }
  ]
}