{
  "nbformat": 4,
  "nbformat_minor": 0,
  "metadata": {
    "colab": {
      "provenance": [],
      "authorship_tag": "ABX9TyP8cxnJjb7OUr/59BEiu8eE",
      "include_colab_link": true
    },
    "kernelspec": {
      "name": "python3",
      "display_name": "Python 3"
    },
    "language_info": {
      "name": "python"
    }
  },
  "cells": [
    {
      "cell_type": "markdown",
      "metadata": {
        "id": "view-in-github",
        "colab_type": "text"
      },
      "source": [
        "<a href=\"https://colab.research.google.com/github/sobiamehak/Q3-9-projects/blob/main/madlibs.ipynb\" target=\"_parent\"><img src=\"https://colab.research.google.com/assets/colab-badge.svg\" alt=\"Open In Colab\"/></a>"
      ]
    },
    {
      "cell_type": "code",
      "execution_count": 2,
      "metadata": {
        "colab": {
          "base_uri": "https://localhost:8080/"
        },
        "id": "c9AvH_l0wZqk",
        "outputId": "bfb54216-1f86-4235-ffb2-60fb33ac0d2e"
      },
      "outputs": [
        {
          "output_type": "stream",
          "name": "stdout",
          "text": [
            "Enter your name: sobia\n",
            "Enter a colour: black\n",
            "Enter your friend name: Rabia\n",
            "Enter a place: Kashmir\n",
            "The Most beautiful person in the world is sobia going to  Kashmir in black car with his/her friend Rabia. It was an unforgettable adventure!\n"
          ]
        }
      ],
      "source": [
        "def mad_libs():\n",
        "    name = input(\"Enter your name: \")\n",
        "    color = input(\"Enter a colour: \")\n",
        "    friend = input(\"Enter your friend name: \")\n",
        "    place = input(\"Enter a place: \")\n",
        "\n",
        "    story = f\"The Most beautiful person in the world is {name} going to  {place} in {color} car with his/her friend {friend}. It was an unforgettable adventure!\"\n",
        "\n",
        "\n",
        "    print(story)\n",
        "mad_libs()"
      ]
    }
  ]
}