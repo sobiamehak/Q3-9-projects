{
  "nbformat": 4,
  "nbformat_minor": 0,
  "metadata": {
    "colab": {
      "provenance": [],
      "authorship_tag": "ABX9TyP9zpIYiUJas5kYBE7M4cWC",
      "include_colab_link": true
    },
    "kernelspec": {
      "name": "python3",
      "display_name": "Python 3"
    },
    "language_info": {
      "name": "python"
    }
  },
  "cells": [
    {
      "cell_type": "markdown",
      "metadata": {
        "id": "view-in-github",
        "colab_type": "text"
      },
      "source": [
        "<a href=\"https://colab.research.google.com/github/sobiamehak/Q3-9-projects/blob/main/numberguess.ipynb\" target=\"_parent\"><img src=\"https://colab.research.google.com/assets/colab-badge.svg\" alt=\"Open In Colab\"/></a>"
      ]
    },
    {
      "cell_type": "code",
      "execution_count": 1,
      "metadata": {
        "colab": {
          "base_uri": "https://localhost:8080/"
        },
        "id": "AZ6Mb49BxhPs",
        "outputId": "c817229d-60fc-4127-b51b-50397d35deae"
      },
      "outputs": [
        {
          "output_type": "stream",
          "name": "stdout",
          "text": [
            "0\n",
            "Enter your number:4\n",
            "you guessed too low\n",
            "Enter your number:7\n",
            "you guessed too low\n",
            "Enter your number:9\n",
            "congratulation you are right\n"
          ]
        }
      ],
      "source": [
        "\n",
        "import random\n",
        "\n",
        "result = random.randint(1,10)\n",
        "\n",
        "def random_num():\n",
        "    guess = 0\n",
        "    print(guess)\n",
        "    while guess != result:\n",
        "     guess = int(input(\"Enter your number:\"))\n",
        "     if guess == result:\n",
        "        print(\"congratulation you are right\")\n",
        "\n",
        "     elif guess > result:\n",
        "        print(\"you guessed too high\")\n",
        "     elif guess < result:\n",
        "        print(\"you guessed too low\")\n",
        "\n",
        "random_num()"
      ]
    }
  ]
}