{
  "nbformat": 4,
  "nbformat_minor": 0,
  "metadata": {
    "colab": {
      "provenance": [],
      "authorship_tag": "ABX9TyMxZhDjYqkd1FsiMyAVj2SN",
      "include_colab_link": true
    },
    "kernelspec": {
      "name": "python3",
      "display_name": "Python 3"
    },
    "language_info": {
      "name": "python"
    }
  },
  "cells": [
    {
      "cell_type": "markdown",
      "metadata": {
        "id": "view-in-github",
        "colab_type": "text"
      },
      "source": [
        "<a href=\"https://colab.research.google.com/github/sobiamehak/Q3-9-projects/blob/main/guessbycom.ipynb\" target=\"_parent\"><img src=\"https://colab.research.google.com/assets/colab-badge.svg\" alt=\"Open In Colab\"/></a>"
      ]
    },
    {
      "cell_type": "code",
      "execution_count": 5,
      "metadata": {
        "colab": {
          "base_uri": "https://localhost:8080/"
        },
        "id": "DZKR9qxRyNOa",
        "outputId": "1b8a2a9b-5746-4650-dc93-ed7f05607804"
      },
      "outputs": [
        {
          "output_type": "stream",
          "name": "stdout",
          "text": [
            "Guess the number game\n",
            "Is 3 too high? Press (H), Is 3 too low? Press (L), If computer is right press (C): l\n",
            "Computer guessed 3\n",
            "Is 7 too high? Press (H), Is 7 too low? Press (L), If computer is right press (C): h\n",
            "Computer guessed 7\n",
            "Is 5 too high? Press (H), Is 5 too low? Press (L), If computer is right press (C): c\n",
            "Computer guessed 5\n",
            "The computer guessed the correct number!\n"
          ]
        }
      ],
      "source": [
        "import random\n",
        "\n",
        "print(\"Guess the number game\")\n",
        "\n",
        "def my_guess(number):\n",
        "    low = 1\n",
        "    high = number\n",
        "    feedback = \"\"\n",
        "\n",
        "    while feedback != 'c':  # Keep looping until user confirms the guess is correct\n",
        "        guess = random.randint(low, high)  # Random guess within the range of low and high\n",
        "        feedback = input(f'Is {guess} too high? Press (H), Is {guess} too low? Press (L), If computer is right press (C): ').lower()\n",
        "\n",
        "        # Adjust the range based on feedback\n",
        "        if feedback == 'h':\n",
        "            high = guess - 1  # The guess is too high, so we need to reduce the upper limit\n",
        "        elif feedback == 'l':\n",
        "            low = guess + 1  # The guess is too low, so we need to increase the lower limit\n",
        "        elif feedback != 'c':\n",
        "            print(\"Invalid input. Please press H, L, or C.\")  # Handle invalid input\n",
        "\n",
        "        print(f\"Computer guessed {guess}\")\n",
        "\n",
        "    print(\"The computer guessed the correct number!\")\n",
        "\n",
        "my_guess(10)\n"
      ]
    }
  ]
}